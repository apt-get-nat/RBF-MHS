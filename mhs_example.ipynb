{
 "cells": [
  {
   "cell_type": "code",
   "execution_count": 2,
   "id": "e825b206",
   "metadata": {},
   "outputs": [],
   "source": [
    "# Required for all calculations\n",
    "import numpy as np\n",
    "import mhs\n",
    "\n",
    "# For timing our results\n",
    "from time import time\n",
    "timings = {}\n",
    "\n",
    "# Required for scattered node layout\n",
    "from scipy import interpolate, ndimage\n",
    "from rbf.pde import fd\n",
    "\n",
    "# Required to pull SHARP from jsoc\n",
    "import os\n",
    "from astropy.io import fits\n",
    "import drms\n",
    "\n",
    "# Required to visualize results\n",
    "import pyvista as pv\n",
    "%matplotlib ipympl\n",
    "import matplotlib.pyplot as plt\n",
    "import streamtracer"
   ]
  },
  {
   "cell_type": "code",
   "execution_count": 27,
   "id": "a413dce8",
   "metadata": {},
   "outputs": [
    {
     "name": "stdout",
     "output_type": "stream",
     "text": [
      "SHARP pull and read completed in  1.88 seconds\n"
     ]
    }
   ],
   "source": [
    "# First pull a SHARP image\n",
    "\n",
    "series = 'hmi.sharp_cea_720s'\n",
    "sharpnum = 7821\n",
    "year=2021\n",
    "month=11\n",
    "day = 9\n",
    "hour = 3\n",
    "minute = 24\n",
    "second = 0\n",
    "timings['sharpStart'] = time()\n",
    "\n",
    "tstr = '{ye}.{mo:02d}.{da:02d}_{ho:02d}:{mi:02d}:{se:02d}'.format(\n",
    "        ye=year,mo=month,da=day,ho=hour,mi=minute,se=second\n",
    "        )\n",
    "\n",
    "c = drms.Client(email = 'nathanielhm@gmail.com', verbose=False)\n",
    "tempdir = '.\\\\sharpdata'\n",
    "if not os.path.exists(tempdir):\n",
    "    os.mkdir(tempdir)\n",
    "\n",
    "exp_query = '{series}[{sharpnum}][{year}.{month:02d}.{day:02d}_{hour:02d}:{minute:02d}:{second:02d}]'\n",
    "fname = f'{series}.{sharpnum}.{year}{month:02d}{day:02d}_{hour:02d}{minute:02d}{second:02d}_TAI.' + '{segment}.fits'\n",
    "\n",
    "metadata = c.query(exp_query.format(\n",
    "                      series=series,sharpnum=sharpnum,\n",
    "                      year=year,month=month,day=day,hour=hour,minute=minute,second=second\n",
    "                  ), key=['RSUN_REF','RSUN_OBS','CDELT1','CDELT2'])\n",
    "if not (os.path.exists(tempdir + '\\\\' + fname.format(segment='Bt')) and \\\n",
    "        os.path.exists(tempdir + '\\\\' + fname.format(segment='Br')) and \\\n",
    "        os.path.exists(tempdir + '\\\\' + fname.format(segment='Bp'))):\n",
    "    request = c.export(exp_query.format(\n",
    "                          series=series,sharpnum=sharpnum,\n",
    "                          year=year,month=month,day=day,hour=hour,minute=minute,second=second\n",
    "                      ) + '{Bt,Br,Bp}')\n",
    "    request.download(tempdir)\n",
    "\n",
    "sharpfitsT = fits.open(tempdir + '\\\\' + fname.format(segment='Bt'),memmap = False)\n",
    "sharpfitsR = fits.open(tempdir + '\\\\' + fname.format(segment='Br'),memmap = False)\n",
    "sharpfitsP = fits.open(tempdir + '\\\\' + fname.format(segment='Bp'),memmap = False)\n",
    "\n",
    "Bt = sharpfitsT[1].data\n",
    "Br = sharpfitsR[1].data\n",
    "Bp = sharpfitsP[1].data\n",
    "\n",
    "lenX = metadata.iloc[0].RSUN_REF / metadata.iloc[0].RSUN_OBS * metadata.iloc[0].CDELT1 * sharpfitsT[1].header['NAXIS1'] / 1e6\n",
    "lenY = metadata.iloc[0].RSUN_REF / metadata.iloc[0].RSUN_OBS * metadata.iloc[0].CDELT2 * sharpfitsT[1].header['NAXIS2'] / 1e6\n",
    "lenZ = np.max((lenX,lenY))*2\n",
    "\n",
    "timings['sharpEnd'] = time()\n",
    "print(f\"SHARP pull and read completed in  {timings['sharpEnd']-timings['sharpStart']:.02f} seconds\")"
   ]
  },
  {
   "cell_type": "code",
   "execution_count": 49,
   "id": "69f149ec",
   "metadata": {},
   "outputs": [
    {
     "name": "stdout",
     "output_type": "stream",
     "text": [
      "18.322449731433128 6.854751781877334\n",
      "0.0 0.0 18.322449731433128 6.854751781877334\n"
     ]
    },
    {
     "ename": "ValueError",
     "evalue": "One of the requested xi is out of bounds in dimension 0",
     "output_type": "error",
     "traceback": [
      "\u001b[1;31m---------------------------------------------------------------------------\u001b[0m",
      "\u001b[1;31mValueError\u001b[0m                                Traceback (most recent call last)",
      "Cell \u001b[1;32mIn[49], line 19\u001b[0m\n\u001b[0;32m     16\u001b[0m     \u001b[38;5;28mprint\u001b[39m(\u001b[38;5;28mmin\u001b[39m(xyz[:,\u001b[38;5;241m0\u001b[39m]),\u001b[38;5;28mmin\u001b[39m(xyz[:,\u001b[38;5;241m1\u001b[39m]),\u001b[38;5;28mmax\u001b[39m(xyz[:,\u001b[38;5;241m0\u001b[39m]),\u001b[38;5;28mmax\u001b[39m(xyz[:,\u001b[38;5;241m1\u001b[39m]))\n\u001b[0;32m     17\u001b[0m     \u001b[38;5;28;01mreturn\u001b[39;00m smoothfn((xyz[:,\u001b[38;5;241m0\u001b[39m],xyz[:,\u001b[38;5;241m1\u001b[39m])) \u001b[38;5;241m*\u001b[39m\u001b[38;5;241m*\u001b[39m \u001b[38;5;241m2\u001b[39m \u001b[38;5;241m*\u001b[39m lenZ\u001b[38;5;241m/\u001b[39m\u001b[38;5;241m2\u001b[39m \u001b[38;5;241m*\u001b[39m \u001b[38;5;241m2e-2\u001b[39m \u001b[38;5;241m+\u001b[39m lenZ\u001b[38;5;241m/\u001b[39m\u001b[38;5;241m2\u001b[39m\u001b[38;5;241m*\u001b[39m\u001b[38;5;241m8e-3\u001b[39m \u001b[38;5;241m*\u001b[39m np\u001b[38;5;241m.\u001b[39mexp(omega\u001b[38;5;241m*\u001b[39mxyz[:,\u001b[38;5;241m2\u001b[39m]);\n\u001b[1;32m---> 19\u001b[0m nodes \u001b[38;5;241m=\u001b[39m \u001b[43mmhs\u001b[49m\u001b[38;5;241;43m.\u001b[39;49m\u001b[43mnode_drop_3d\u001b[49m\u001b[43m(\u001b[49m\u001b[43m[\u001b[49m\u001b[38;5;241;43m0\u001b[39;49m\u001b[43m,\u001b[49m\u001b[43mlenX\u001b[49m\u001b[43m,\u001b[49m\u001b[38;5;241;43m0\u001b[39;49m\u001b[43m,\u001b[49m\u001b[43mlenY\u001b[49m\u001b[43m,\u001b[49m\u001b[38;5;241;43m0\u001b[39;49m\u001b[43m,\u001b[49m\u001b[43mlenZ\u001b[49m\u001b[43m]\u001b[49m\u001b[43m,\u001b[49m\u001b[43m \u001b[49m\u001b[43m(\u001b[49m\u001b[43msharpfitsR\u001b[49m\u001b[43m[\u001b[49m\u001b[38;5;241;43m1\u001b[39;49m\u001b[43m]\u001b[49m\u001b[38;5;241;43m.\u001b[39;49m\u001b[43mheader\u001b[49m\u001b[43m[\u001b[49m\u001b[38;5;124;43m'\u001b[39;49m\u001b[38;5;124;43mNAXIS2\u001b[39;49m\u001b[38;5;124;43m'\u001b[39;49m\u001b[43m]\u001b[49m\u001b[43m,\u001b[49m\u001b[43msharpfitsR\u001b[49m\u001b[43m[\u001b[49m\u001b[38;5;241;43m1\u001b[39;49m\u001b[43m]\u001b[49m\u001b[38;5;241;43m.\u001b[39;49m\u001b[43mheader\u001b[49m\u001b[43m[\u001b[49m\u001b[38;5;124;43m'\u001b[39;49m\u001b[38;5;124;43mNAXIS1\u001b[39;49m\u001b[38;5;124;43m'\u001b[39;49m\u001b[43m]\u001b[49m\u001b[43m)\u001b[49m\u001b[43m,\u001b[49m\u001b[43m \u001b[49m\u001b[38;5;241;43m1e5\u001b[39;49m\u001b[43m,\u001b[49m\u001b[43m \u001b[49m\u001b[43mrfn\u001b[49m\u001b[43m)\u001b[49m\n\u001b[0;32m     20\u001b[0m n \u001b[38;5;241m=\u001b[39m nodes\u001b[38;5;241m.\u001b[39mshape[\u001b[38;5;241m0\u001b[39m]\n\u001b[0;32m     21\u001b[0m index \u001b[38;5;241m=\u001b[39m mhs\u001b[38;5;241m.\u001b[39mIndex(np\u001b[38;5;241m.\u001b[39mwhere(nodes[:,\u001b[38;5;241m0\u001b[39m]\u001b[38;5;241m<\u001b[39m\u001b[38;5;241m1e-4\u001b[39m\u001b[38;5;241m*\u001b[39mlenX)[\u001b[38;5;241m0\u001b[39m],np\u001b[38;5;241m.\u001b[39mwhere((np\u001b[38;5;241m.\u001b[39mmax(nodes[:,\u001b[38;5;241m0\u001b[39m])\u001b[38;5;241m-\u001b[39mnodes[:,\u001b[38;5;241m0\u001b[39m])\u001b[38;5;241m<\u001b[39m\u001b[38;5;241m1e-4\u001b[39m\u001b[38;5;241m*\u001b[39mlenX)[\u001b[38;5;241m0\u001b[39m],\n\u001b[0;32m     22\u001b[0m                   np\u001b[38;5;241m.\u001b[39mwhere(nodes[:,\u001b[38;5;241m1\u001b[39m]\u001b[38;5;241m<\u001b[39m\u001b[38;5;241m1e-4\u001b[39m\u001b[38;5;241m*\u001b[39mlenY)[\u001b[38;5;241m0\u001b[39m],np\u001b[38;5;241m.\u001b[39mwhere((np\u001b[38;5;241m.\u001b[39mmax(nodes[:,\u001b[38;5;241m1\u001b[39m])\u001b[38;5;241m-\u001b[39mnodes[:,\u001b[38;5;241m1\u001b[39m])\u001b[38;5;241m<\u001b[39m\u001b[38;5;241m1e-4\u001b[39m\u001b[38;5;241m*\u001b[39mlenY)[\u001b[38;5;241m0\u001b[39m],\n\u001b[0;32m     23\u001b[0m                   np\u001b[38;5;241m.\u001b[39mwhere(nodes[:,\u001b[38;5;241m2\u001b[39m]\u001b[38;5;241m<\u001b[39m\u001b[38;5;241m1e-4\u001b[39m\u001b[38;5;241m*\u001b[39mlenZ)[\u001b[38;5;241m0\u001b[39m],np\u001b[38;5;241m.\u001b[39mwhere((np\u001b[38;5;241m.\u001b[39mmax(nodes[:,\u001b[38;5;241m2\u001b[39m])\u001b[38;5;241m-\u001b[39mnodes[:,\u001b[38;5;241m2\u001b[39m])\u001b[38;5;241m<\u001b[39m\u001b[38;5;241m1e-2\u001b[39m\u001b[38;5;241m*\u001b[39mlenZ)[\u001b[38;5;241m0\u001b[39m],[]\n\u001b[0;32m     24\u001b[0m                  )\n",
      "File \u001b[1;32m~\\Documents\\Python Scripts\\mhs.py:63\u001b[0m, in \u001b[0;36mnode_drop_3d\u001b[1;34m(box, ninit, dotmax, radius)\u001b[0m\n\u001b[0;32m     61\u001b[0m yy \u001b[38;5;241m=\u001b[39m np\u001b[38;5;241m.\u001b[39mlinspace(box[\u001b[38;5;241m2\u001b[39m],box[\u001b[38;5;241m3\u001b[39m],ninit[\u001b[38;5;241m1\u001b[39m])\n\u001b[0;32m     62\u001b[0m XX,YY \u001b[38;5;241m=\u001b[39m np\u001b[38;5;241m.\u001b[39mmeshgrid(xx,yy, indexing\u001b[38;5;241m=\u001b[39m\u001b[38;5;124m'\u001b[39m\u001b[38;5;124mij\u001b[39m\u001b[38;5;124m'\u001b[39m)\n\u001b[1;32m---> 63\u001b[0m r \u001b[38;5;241m=\u001b[39m \u001b[43mradius\u001b[49m\u001b[43m(\u001b[49m\u001b[43mnp\u001b[49m\u001b[38;5;241;43m.\u001b[39;49m\u001b[43marray\u001b[49m\u001b[43m(\u001b[49m\n\u001b[0;32m     64\u001b[0m \u001b[43m    \u001b[49m\u001b[43m[\u001b[49m\u001b[43mXX\u001b[49m\u001b[38;5;241;43m.\u001b[39;49m\u001b[43mravel\u001b[49m\u001b[43m(\u001b[49m\u001b[43m)\u001b[49m\u001b[43m,\u001b[49m\u001b[43mYY\u001b[49m\u001b[38;5;241;43m.\u001b[39;49m\u001b[43mravel\u001b[49m\u001b[43m(\u001b[49m\u001b[43m)\u001b[49m\u001b[43m,\u001b[49m\u001b[43mbox\u001b[49m\u001b[43m[\u001b[49m\u001b[38;5;241;43m0\u001b[39;49m\u001b[43m]\u001b[49m\u001b[38;5;241;43m*\u001b[39;49m\u001b[43mnp\u001b[49m\u001b[38;5;241;43m.\u001b[39;49m\u001b[43mones\u001b[49m\u001b[43m(\u001b[49m\u001b[43mXX\u001b[49m\u001b[38;5;241;43m.\u001b[39;49m\u001b[43mravel\u001b[49m\u001b[43m(\u001b[49m\u001b[43m)\u001b[49m\u001b[38;5;241;43m.\u001b[39;49m\u001b[43mshape\u001b[49m\u001b[43m)\u001b[49m\u001b[43m]\u001b[49m\n\u001b[0;32m     65\u001b[0m \u001b[43m\u001b[49m\u001b[43m)\u001b[49m\u001b[38;5;241;43m.\u001b[39;49m\u001b[43mtranspose\u001b[49m\u001b[43m(\u001b[49m\u001b[43m)\u001b[49m\u001b[43m)\u001b[49m\n\u001b[0;32m     66\u001b[0m pdp \u001b[38;5;241m=\u001b[39m box[\u001b[38;5;241m4\u001b[39m]\u001b[38;5;241m+\u001b[39m\u001b[38;5;241m0.01\u001b[39m\u001b[38;5;241m*\u001b[39m\u001b[38;5;28mmin\u001b[39m(r)\u001b[38;5;241m*\u001b[39mnp\u001b[38;5;241m.\u001b[39marray(np\u001b[38;5;241m.\u001b[39mrandom\u001b[38;5;241m.\u001b[39mrand(ninit[\u001b[38;5;241m0\u001b[39m],ninit[\u001b[38;5;241m1\u001b[39m]))\n\u001b[0;32m     67\u001b[0m nodeindices \u001b[38;5;241m=\u001b[39m np\u001b[38;5;241m.\u001b[39mzeros(pdp\u001b[38;5;241m.\u001b[39mshape)\n",
      "Cell \u001b[1;32mIn[49], line 17\u001b[0m, in \u001b[0;36mrfn\u001b[1;34m(xyz)\u001b[0m\n\u001b[0;32m     15\u001b[0m omega \u001b[38;5;241m=\u001b[39m \u001b[38;5;241m1\u001b[39m \u001b[38;5;241m/\u001b[39m lenZ;\n\u001b[0;32m     16\u001b[0m \u001b[38;5;28mprint\u001b[39m(\u001b[38;5;28mmin\u001b[39m(xyz[:,\u001b[38;5;241m0\u001b[39m]),\u001b[38;5;28mmin\u001b[39m(xyz[:,\u001b[38;5;241m1\u001b[39m]),\u001b[38;5;28mmax\u001b[39m(xyz[:,\u001b[38;5;241m0\u001b[39m]),\u001b[38;5;28mmax\u001b[39m(xyz[:,\u001b[38;5;241m1\u001b[39m]))\n\u001b[1;32m---> 17\u001b[0m \u001b[38;5;28;01mreturn\u001b[39;00m \u001b[43msmoothfn\u001b[49m\u001b[43m(\u001b[49m\u001b[43m(\u001b[49m\u001b[43mxyz\u001b[49m\u001b[43m[\u001b[49m\u001b[43m:\u001b[49m\u001b[43m,\u001b[49m\u001b[38;5;241;43m0\u001b[39;49m\u001b[43m]\u001b[49m\u001b[43m,\u001b[49m\u001b[43mxyz\u001b[49m\u001b[43m[\u001b[49m\u001b[43m:\u001b[49m\u001b[43m,\u001b[49m\u001b[38;5;241;43m1\u001b[39;49m\u001b[43m]\u001b[49m\u001b[43m)\u001b[49m\u001b[43m)\u001b[49m \u001b[38;5;241m*\u001b[39m\u001b[38;5;241m*\u001b[39m \u001b[38;5;241m2\u001b[39m \u001b[38;5;241m*\u001b[39m lenZ\u001b[38;5;241m/\u001b[39m\u001b[38;5;241m2\u001b[39m \u001b[38;5;241m*\u001b[39m \u001b[38;5;241m2e-2\u001b[39m \u001b[38;5;241m+\u001b[39m lenZ\u001b[38;5;241m/\u001b[39m\u001b[38;5;241m2\u001b[39m\u001b[38;5;241m*\u001b[39m\u001b[38;5;241m8e-3\u001b[39m \u001b[38;5;241m*\u001b[39m np\u001b[38;5;241m.\u001b[39mexp(omega\u001b[38;5;241m*\u001b[39mxyz[:,\u001b[38;5;241m2\u001b[39m])\n",
      "File \u001b[1;32m~\\anaconda3\\envs\\pinn\\lib\\site-packages\\scipy\\interpolate\\_rgi.py:329\u001b[0m, in \u001b[0;36mRegularGridInterpolator.__call__\u001b[1;34m(self, xi, method)\u001b[0m\n\u001b[0;32m    326\u001b[0m \u001b[38;5;28;01mif\u001b[39;00m method \u001b[38;5;129;01mnot\u001b[39;00m \u001b[38;5;129;01min\u001b[39;00m \u001b[38;5;28mself\u001b[39m\u001b[38;5;241m.\u001b[39m_ALL_METHODS:\n\u001b[0;32m    327\u001b[0m     \u001b[38;5;28;01mraise\u001b[39;00m \u001b[38;5;167;01mValueError\u001b[39;00m(\u001b[38;5;124m\"\u001b[39m\u001b[38;5;124mMethod \u001b[39m\u001b[38;5;124m'\u001b[39m\u001b[38;5;132;01m%s\u001b[39;00m\u001b[38;5;124m'\u001b[39m\u001b[38;5;124m is not defined\u001b[39m\u001b[38;5;124m\"\u001b[39m \u001b[38;5;241m%\u001b[39m method)\n\u001b[1;32m--> 329\u001b[0m xi, xi_shape, ndim, nans, out_of_bounds \u001b[38;5;241m=\u001b[39m \u001b[38;5;28;43mself\u001b[39;49m\u001b[38;5;241;43m.\u001b[39;49m\u001b[43m_prepare_xi\u001b[49m\u001b[43m(\u001b[49m\u001b[43mxi\u001b[49m\u001b[43m)\u001b[49m\n\u001b[0;32m    331\u001b[0m \u001b[38;5;28;01mif\u001b[39;00m method \u001b[38;5;241m==\u001b[39m \u001b[38;5;124m\"\u001b[39m\u001b[38;5;124mlinear\u001b[39m\u001b[38;5;124m\"\u001b[39m:\n\u001b[0;32m    332\u001b[0m     indices, norm_distances \u001b[38;5;241m=\u001b[39m \u001b[38;5;28mself\u001b[39m\u001b[38;5;241m.\u001b[39m_find_indices(xi\u001b[38;5;241m.\u001b[39mT)\n",
      "File \u001b[1;32m~\\anaconda3\\envs\\pinn\\lib\\site-packages\\scipy\\interpolate\\_rgi.py:383\u001b[0m, in \u001b[0;36mRegularGridInterpolator._prepare_xi\u001b[1;34m(self, xi)\u001b[0m\n\u001b[0;32m    380\u001b[0m     \u001b[38;5;28;01mfor\u001b[39;00m i, p \u001b[38;5;129;01min\u001b[39;00m \u001b[38;5;28menumerate\u001b[39m(xi\u001b[38;5;241m.\u001b[39mT):\n\u001b[0;32m    381\u001b[0m         \u001b[38;5;28;01mif\u001b[39;00m \u001b[38;5;129;01mnot\u001b[39;00m np\u001b[38;5;241m.\u001b[39mlogical_and(np\u001b[38;5;241m.\u001b[39mall(\u001b[38;5;28mself\u001b[39m\u001b[38;5;241m.\u001b[39mgrid[i][\u001b[38;5;241m0\u001b[39m] \u001b[38;5;241m<\u001b[39m\u001b[38;5;241m=\u001b[39m p),\n\u001b[0;32m    382\u001b[0m                               np\u001b[38;5;241m.\u001b[39mall(p \u001b[38;5;241m<\u001b[39m\u001b[38;5;241m=\u001b[39m \u001b[38;5;28mself\u001b[39m\u001b[38;5;241m.\u001b[39mgrid[i][\u001b[38;5;241m-\u001b[39m\u001b[38;5;241m1\u001b[39m])):\n\u001b[1;32m--> 383\u001b[0m             \u001b[38;5;28;01mraise\u001b[39;00m \u001b[38;5;167;01mValueError\u001b[39;00m(\u001b[38;5;124m\"\u001b[39m\u001b[38;5;124mOne of the requested xi is out of bounds \u001b[39m\u001b[38;5;124m\"\u001b[39m\n\u001b[0;32m    384\u001b[0m                              \u001b[38;5;124m\"\u001b[39m\u001b[38;5;124min dimension \u001b[39m\u001b[38;5;132;01m%d\u001b[39;00m\u001b[38;5;124m\"\u001b[39m \u001b[38;5;241m%\u001b[39m i)\n\u001b[0;32m    385\u001b[0m     out_of_bounds \u001b[38;5;241m=\u001b[39m \u001b[38;5;28;01mNone\u001b[39;00m\n\u001b[0;32m    386\u001b[0m \u001b[38;5;28;01melse\u001b[39;00m:\n",
      "\u001b[1;31mValueError\u001b[0m: One of the requested xi is out of bounds in dimension 0"
     ]
    }
   ],
   "source": [
    "# Create a new, adaptively scattered domain in cartesian geometry\n",
    "timings['nodeStart'] = time()\n",
    "\n",
    "points = (np.linspace(lenY,0,sharpfitsR[1].header['NAXIS2']),np.linspace(0,lenX,sharpfitsR[1].header['NAXIS1']))\n",
    "BxInterp = interpolate.RegularGridInterpolator(points,Bt)\n",
    "BzInterp = interpolate.RegularGridInterpolator(points,Br)\n",
    "ByInterp = interpolate.RegularGridInterpolator(points,-Bp)\n",
    "\n",
    "supersmooth = ndimage.maximum_filter(abs(ndimage.gaussian_laplace(Br,1)),20)\n",
    "smoothfn = interpolate.RegularGridInterpolator(points,(1-supersmooth/np.max(supersmooth.ravel())))\n",
    "print(lenX,lenY)\n",
    "def rfn(xyz):\n",
    "    if len(xyz.shape) == 1:\n",
    "        xyz = np.expand_dims(xyz,0)\n",
    "    omega = 1 / lenZ;\n",
    "    print(min(xyz[:,0]),min(xyz[:,1]),max(xyz[:,0]),max(xyz[:,1]))\n",
    "    return smoothfn((xyz[:,0],xyz[:,1])) ** 2 * lenZ/2 * 2e-2 + lenZ/2*8e-3 * np.exp(omega*xyz[:,2]);\n",
    "\n",
    "nodes = mhs.node_drop_3d([0,lenX,0,lenY,0,lenZ], (sharpfitsR[1].header['NAXIS2'],sharpfitsR[1].header['NAXIS1']), 1e5, rfn)\n",
    "n = nodes.shape[0]\n",
    "index = mhs.Index(np.where(nodes[:,0]<1e-4*lenX)[0],np.where((np.max(nodes[:,0])-nodes[:,0])<1e-4*lenX)[0],\n",
    "                  np.where(nodes[:,1]<1e-4*lenY)[0],np.where((np.max(nodes[:,1])-nodes[:,1])<1e-4*lenY)[0],\n",
    "                  np.where(nodes[:,2]<1e-4*lenZ)[0],np.where((np.max(nodes[:,2])-nodes[:,2])<1e-2*lenZ)[0],[]\n",
    "                 )\n",
    "timings['nodeBuilt'] = time()\n",
    "print(f\"Built nodes (n={nodes.shape[0]:.02f},zmax={max(nodes[:,2])}) in {timings['nodeBuilt']-timings['nodeStart']:.02f} seconds\")\n",
    "print('Determined boundary nodes with counts: ' + str(index))\n",
    "\n",
    "Bx0 = np.expand_dims(BxInterp((nodes[index.z0,0],nodes[index.z0,1])),1)\n",
    "By0 = np.expand_dims(ByInterp((nodes[index.z0,0],nodes[index.z0,1])),1)\n",
    "Bz0 = np.expand_dims(BzInterp((nodes[index.z0,0],nodes[index.z0,1])),1)\n",
    "\n",
    "# And now we can create the differentiation matrices for this domain\n",
    "stencil_n = 200\n",
    "order = 4\n",
    "Dx  = fd.weight_matrix(nodes,nodes,stencil_n,[1,0,0],phi='phs5',order=order).tocsr()\n",
    "timings['nodeDx'] = time()\n",
    "print(f\"Computed Dx in {timings['nodeDx']-timings['nodeBuilt']:.02f} seconds.\")\n",
    "Dy  = fd.weight_matrix(nodes,nodes,stencil_n,[0,1,0],phi='phs5',order=order).tocsr()\n",
    "timings['nodeDy'] = time()\n",
    "print(f\"Computed Dy in {timings['nodeDy']-timings['nodeDx']:.02f} seconds.\")\n",
    "Dz  = fd.weight_matrix(nodes,nodes,stencil_n,[0,0,1],phi='phs5',order=order).tocsr()\n",
    "timings['nodeDz'] = time()\n",
    "print(f\"Computed Dz in {timings['nodeDz']-timings['nodeDy']:.02f} seconds.\")\n",
    "Dxx = fd.weight_matrix(nodes,nodes,stencil_n,[2,0,0],phi='phs5',order=order).tocsr()\n",
    "timings['nodeDxx'] = time()\n",
    "print(f\"Computed Dxx in {timings['nodeDxx']-timings['nodeDz']:.02f} seconds.\")\n",
    "Dyy = fd.weight_matrix(nodes,nodes,stencil_n,[0,2,0],phi='phs5',order=order).tocsr()\n",
    "timings['nodeDyy'] = time()\n",
    "print(f\"Computed Dyy in {timings['nodeDyy']-timings['nodeDxx']:.02f} seconds.\")\n",
    "Dzz = fd.weight_matrix(nodes,nodes,stencil_n,[0,0,2],phi='phs5',order=order).tocsr()\n",
    "timings['nodeDzz'] = time()\n",
    "print(f\"Computed Dzz in {timings['nodeDzz']-timings['nodeDyy']:.02f} seconds.\")"
   ]
  },
  {
   "cell_type": "code",
   "execution_count": 38,
   "id": "402cb49d",
   "metadata": {},
   "outputs": [
    {
     "name": "stdout",
     "output_type": "stream",
     "text": [
      "Potential solution done: 1. Iteration 2002 returned residual 473.8674867941269\n",
      "Computed potential field in 1132.3771781921387 seconds.\n"
     ]
    }
   ],
   "source": [
    "# Now we are ready to perform the MHS extrapolation\n",
    "timings['mhsInit'] = time()\n",
    "config = {'lsqr_tol':1e-5,\n",
    "          'lsqr_iter':1e4,\n",
    "          'maxiters':2,\n",
    "          'gpu':False,\n",
    "          'verbose':True\n",
    "         }\n",
    "# First compute the potential field\n",
    "Bpot = mhs.potfield(nodes, Bz0, Dx, Dy, Dz, Dxx, Dyy, Dzz, index,\n",
    "                    config=config)\n",
    "timings['Bpot'] = time()\n",
    "print(f\"Computed potential field in {timings['Bpot']-timings['mhsInit']} seconds.\")"
   ]
  },
  {
   "cell_type": "code",
   "execution_count": null,
   "id": "48e7ae37",
   "metadata": {
    "scrolled": true
   },
   "outputs": [],
   "source": [
    "B, r = mhs.num_mhs(np.zeros((n,1)),np.zeros((n,1)), Bx0,By0,Bz0, nodes, Dx, Dy, Dz, Dxx, Dyy, Dzz, index,\n",
    "                   config=config, Binit=Bpot)\n",
    "timings['Bmhs'] = time()\n",
    "print(f\"Computed mhs field in {timings['Bmhs']-timings['Bpot']} seconds.\")"
   ]
  },
  {
   "cell_type": "code",
   "execution_count": null,
   "id": "27659d2e",
   "metadata": {},
   "outputs": [],
   "source": [
    "fig = plt.figure()\n",
    "ax = plt.subplot(2,1,1)\n",
    "ax = ax.scatter(nodes[index.z0,0],nodes[index.z0,1],c=Bpot[index.z0,2],s=10)\n",
    "plt.colorbar(ax)\n",
    "ax = plt.subplot(2,1,2)\n",
    "ax = ax.scatter(nodes[index.z0,0],nodes[index.z0,1],c=Bz0,s=10)\n",
    "plt.colorbar(ax)\n",
    "plt.show()"
   ]
  },
  {
   "cell_type": "code",
   "execution_count": 39,
   "id": "de968d43",
   "metadata": {},
   "outputs": [],
   "source": [
    "import importlib\n",
    "importlib.reload(mhs)"
   ]
  },
  {
   "cell_type": "code",
   "execution_count": 40,
   "id": "71f79800",
   "metadata": {},
   "outputs": [
    {
     "name": "stdout",
     "output_type": "stream",
     "text": [
      "Built interpolant in 0.07999777793884277 seconds.\n",
      "(1000000, 3)\n",
      "interpolated field in 3.2917544841766357 seconds.\n",
      "Traced 400 field lines in 43.85793161392212 seconds.\n"
     ]
    }
   ],
   "source": [
    "st = streamtracer.StreamTracer(int(1e3), lenX/1e2)\n",
    "timings['streamblock'] = time()\n",
    "# Binterp = interpolate.RBFInterpolator(nodes,B,neighbors=60,kernel='cubic',degree=2)\n",
    "Bxinterp = interpolate.NearestNDInterpolator(nodes,B[:,0])\n",
    "Byinterp = interpolate.NearestNDInterpolator(nodes,B[:,1])\n",
    "Bzinterp = interpolate.NearestNDInterpolator(nodes,B[:,2])\n",
    "timings['interp'] = time()\n",
    "print(f\"Built interpolant in {timings['interp']-timings['streamblock']} seconds.\")\n",
    "\n",
    "xgrid,ygrid,zgrid = np.meshgrid(np.linspace(0,lenX,100),np.linspace(0,lenY,100),np.linspace(0,lenZ,100))\n",
    "# Bgrid = Binterp(np.hstack((np.expand_dims(xgrid.ravel(),1),np.expand_dims(ygrid.ravel(),1),np.expand_dims(zgrid.ravel(),1))))\n",
    "Bxgrid = Bxinterp(xgrid.ravel(),ygrid.ravel(),zgrid.ravel())\n",
    "Bygrid = Byinterp(xgrid.ravel(),ygrid.ravel(),zgrid.ravel())\n",
    "Bzgrid = Bzinterp(xgrid.ravel(),ygrid.ravel(),zgrid.ravel())\n",
    "Bgrid = np.vstack((Bxgrid,Bygrid,Bzgrid)).transpose()\n",
    "print(Bgrid.shape)\n",
    "Bgrid = Bgrid.reshape((100,100,100,3))\n",
    "timings['grid'] = time()\n",
    "\n",
    "print(f\"interpolated field in {timings['grid']-timings['interp']} seconds.\")\n",
    "st = streamtracer.StreamTracer(int(1e5),min((lenX,lenY,lenZ))/1e2)\n",
    "vg = streamtracer.VectorGrid(Bgrid, grid_coords=[np.linspace(0,lenX,100),np.linspace(0,lenY,100),np.linspace(0,lenZ,100)])\n",
    "xseed,yseed = np.meshgrid(np.linspace(0,lenX,20),np.linspace(0,lenY,20))\n",
    "seed = np.hstack((np.expand_dims(xseed.ravel(),1),np.expand_dims(yseed.ravel(),1),np.zeros((20**2,1))))\n",
    "st.trace(seed,vg)\n",
    "timings['trace'] = time()\n",
    "print(f\"Traced {20**2} field lines in {timings['trace'] - timings['grid']} seconds.\")"
   ]
  },
  {
   "cell_type": "code",
   "execution_count": null,
   "id": "b11d4601",
   "metadata": {},
   "outputs": [],
   "source": [
    "pl = pv.Plotter()\n",
    "for stream in st.xs:\n",
    "    pl.add_lines(stream,color='black',width=1,connected = True)\n",
    "pl.show(jupyter_backend='trame')"
   ]
  },
  {
   "cell_type": "code",
   "execution_count": 41,
   "id": "d49c1b51",
   "metadata": {},
   "outputs": [
    {
     "data": {
      "application/vnd.jupyter.widget-view+json": {
       "model_id": "0b369df64cbb431db68c3f2075460e57",
       "version_major": 2,
       "version_minor": 0
      },
      "text/plain": [
       "Widget(value=\"<iframe src='http://localhost:55366/index.html?ui=P_0x23d2d6522c0_9&reconnect=auto' style='width…"
      ]
     },
     "metadata": {},
     "output_type": "display_data"
    }
   ],
   "source": [
    "Zmesh = pv.ImageData()\n",
    "Zmesh.dimensions = np.array(xgrid.shape)+1\n",
    "Zmesh.origin = (0,0,0)\n",
    "Zmesh.spacing = (xgrid[1,1,1],ygrid[1,1,1],zgrid[1,1,1])\n",
    "Zmesh.cell_data[\"values\"] = Bgrid[:,:,:,2].ravel('F')\n",
    "sl = Zmesh.slice(normal=[0,0,1],origin=[0.1,0.1,0.1])\n",
    "sl.plot()"
   ]
  },
  {
   "cell_type": "code",
   "execution_count": 34,
   "id": "d309c9a2",
   "metadata": {},
   "outputs": [
    {
     "data": {
      "text/plain": [
       "318"
      ]
     },
     "execution_count": 34,
     "metadata": {},
     "output_type": "execute_result"
    }
   ],
   "source": [
    "sharpfitsR[1].header['NAXIS2']"
   ]
  },
  {
   "cell_type": "code",
   "execution_count": 35,
   "id": "f0899db5",
   "metadata": {},
   "outputs": [
    {
     "data": {
      "text/plain": [
       "(318, 850)"
      ]
     },
     "execution_count": 35,
     "metadata": {},
     "output_type": "execute_result"
    }
   ],
   "source": [
    "sharpfitsR[1].data.shape"
   ]
  },
  {
   "cell_type": "code",
   "execution_count": 36,
   "id": "a811e787",
   "metadata": {},
   "outputs": [
    {
     "data": {
      "text/plain": [
       "array([1.        , 0.88888889, 0.77777778, 0.66666667, 0.55555556,\n",
       "       0.44444444, 0.33333333, 0.22222222, 0.11111111, 0.        ])"
      ]
     },
     "execution_count": 36,
     "metadata": {},
     "output_type": "execute_result"
    }
   ],
   "source": [
    "np.linspace(1,0,10)"
   ]
  },
  {
   "cell_type": "code",
   "execution_count": null,
   "id": "e0f94727",
   "metadata": {},
   "outputs": [],
   "source": []
  }
 ],
 "metadata": {
  "kernelspec": {
   "display_name": "Python 3 (ipykernel)",
   "language": "python",
   "name": "python3"
  },
  "language_info": {
   "codemirror_mode": {
    "name": "ipython",
    "version": 3
   },
   "file_extension": ".py",
   "mimetype": "text/x-python",
   "name": "python",
   "nbconvert_exporter": "python",
   "pygments_lexer": "ipython3",
   "version": "3.10.11"
  }
 },
 "nbformat": 4,
 "nbformat_minor": 5
}
