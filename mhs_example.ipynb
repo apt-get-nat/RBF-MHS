{
 "cells": [
  {
   "cell_type": "code",
   "execution_count": 1,
   "id": "e825b206",
   "metadata": {},
   "outputs": [],
   "source": [
    "# Required for all calculations\n",
    "import numpy as np\n",
    "import mhs\n",
    "\n",
    "# For timing our results\n",
    "from time import time\n",
    "timings = {}\n",
    "\n",
    "# Required for scattered node layout\n",
    "from scipy import interpolate, ndimage\n",
    "from rbf.pde import fd\n",
    "\n",
    "# Required to pull SHARP from jsoc\n",
    "import os\n",
    "from astropy.io import fits\n",
    "import drms\n",
    "\n",
    "# Required to visualize results\n",
    "%matplotlib ipympl\n",
    "import matplotlib.pyplot as plt"
   ]
  },
  {
   "cell_type": "code",
   "execution_count": 2,
   "id": "a413dce8",
   "metadata": {},
   "outputs": [
    {
     "name": "stdout",
     "output_type": "stream",
     "text": [
      "SHARP pull and read completed in  2.53 seconds\n"
     ]
    }
   ],
   "source": [
    "# First pull a SHARP image\n",
    "\n",
    "series = 'hmi.sharp_cea_720s'\n",
    "sharpnum = 7821\n",
    "year=2021\n",
    "month=11\n",
    "day = 9\n",
    "hour = 3\n",
    "minute = 24\n",
    "second = 0\n",
    "timings['sharpStart'] = time()\n",
    "\n",
    "tstr = '{ye}.{mo:02d}.{da:02d}_{ho:02d}:{mi:02d}:{se:02d}'.format(\n",
    "        ye=year,mo=month,da=day,ho=hour,mi=minute,se=second\n",
    "        )\n",
    "\n",
    "c = drms.Client(email = 'nathanielhm@gmail.com', verbose=False)\n",
    "tempdir = '.\\\\sharpdata'\n",
    "if not os.path.exists(tempdir):\n",
    "    os.mkdir(tempdir)\n",
    "\n",
    "exp_query = '{series}[{sharpnum}][{year}.{month:02d}.{day:02d}_{hour:02d}:{minute:02d}:{second:02d}]'\n",
    "fname = f'{series}.{sharpnum}.{year}{month:02d}{day:02d}_{hour:02d}{minute:02d}{second:02d}_TAI.' + '{segment}.fits'\n",
    "\n",
    "metadata = c.query(exp_query.format(\n",
    "                      series=series,sharpnum=sharpnum,\n",
    "                      year=year,month=month,day=day,hour=hour,minute=minute,second=second\n",
    "                  ), key=['RSUN_REF','RSUN_OBS','CDELT1','CDELT2'])\n",
    "if not (os.path.exists(tempdir + '\\\\' + fname.format(segment='Bt')) and \\\n",
    "        os.path.exists(tempdir + '\\\\' + fname.format(segment='Br')) and \\\n",
    "        os.path.exists(tempdir + '\\\\' + fname.format(segment='Bp'))):\n",
    "    request = c.export(exp_query.format(\n",
    "                          series=series,sharpnum=sharpnum,\n",
    "                          year=year,month=month,day=day,hour=hour,minute=minute,second=second\n",
    "                      ) + '{Bt,Br,Bp}')\n",
    "    request.download(tempdir)\n",
    "\n",
    "sharpfitsT = fits.open(tempdir + '\\\\' + fname.format(segment='Bt'),memmap = False)\n",
    "sharpfitsR = fits.open(tempdir + '\\\\' + fname.format(segment='Br'),memmap = False)\n",
    "sharpfitsP = fits.open(tempdir + '\\\\' + fname.format(segment='Bp'),memmap = False)\n",
    "\n",
    "Bt = sharpfitsT[1].data.transpose()\n",
    "Br = sharpfitsR[1].data.transpose()\n",
    "Bp = sharpfitsP[1].data.transpose()\n",
    "\n",
    "lenX = metadata.iloc[0].RSUN_REF / metadata.iloc[0].RSUN_OBS * metadata.iloc[0].CDELT1 * sharpfitsT[1].header['NAXIS1'] / 1e6\n",
    "lenY = metadata.iloc[0].RSUN_REF / metadata.iloc[0].RSUN_OBS * metadata.iloc[0].CDELT2 * sharpfitsT[1].header['NAXIS2'] / 1e6\n",
    "lenZ = np.max((lenX,lenY))*2\n",
    "\n",
    "timings['sharpEnd'] = time()\n",
    "print(f\"SHARP pull and read completed in  {timings['sharpEnd']-timings['sharpStart']:.02f} seconds\")"
   ]
  },
  {
   "cell_type": "code",
   "execution_count": 3,
   "id": "69f149ec",
   "metadata": {},
   "outputs": [
    {
     "name": "stdout",
     "output_type": "stream",
     "text": [
      "Built nodes (n=88124.00,zmax=36.64456770653862) in 157.41 seconds\n",
      "Determined boundary nodes with counts: x0:797, x1:744, y0:2053, y1:1769, z0:871, z1:290\n",
      "Computed Dx in 71.03 seconds.\n",
      "Computed Dy in 68.44 seconds.\n",
      "Computed Dz in 66.02 seconds.\n",
      "Computed Dxx in 68.93 seconds.\n",
      "Computed Dyy in 68.77 seconds.\n",
      "Computed Dzz in 66.89 seconds.\n"
     ]
    }
   ],
   "source": [
    "# Create a new, adaptively scattered domain in cartesian geometry\n",
    "timings['nodeStart'] = time()\n",
    "\n",
    "points = (np.linspace(0,lenX,sharpfitsR[1].header['NAXIS1']),np.linspace(0,lenY,sharpfitsR[1].header['NAXIS2']))\n",
    "BxInterp = interpolate.RegularGridInterpolator(points,Bt)\n",
    "BzInterp = interpolate.RegularGridInterpolator(points,Br)\n",
    "ByInterp = interpolate.RegularGridInterpolator(points,-Bp)\n",
    "\n",
    "supersmooth = ndimage.maximum_filter(abs(ndimage.gaussian_laplace(Br,1)),20)\n",
    "smoothfn = interpolate.RegularGridInterpolator(points,(1-supersmooth/np.max(supersmooth.ravel())))\n",
    "\n",
    "def rfn(xyz):\n",
    "    if len(xyz.shape) == 1:\n",
    "        xyz = np.expand_dims(xyz,0)\n",
    "    omega = 1 / lenZ;\n",
    "    return smoothfn((xyz[:,0],xyz[:,1])) ** 2 * lenZ/2 * 2e-2 + lenZ/2*8e-3 * np.exp(omega*xyz[:,2]);\n",
    "\n",
    "nodes = mhs.node_drop_3d([0,lenX,0,lenY,0,lenZ], Bt.shape, 1e5, rfn)\n",
    "n = nodes.shape[0]\n",
    "index = mhs.Index(np.where(nodes[:,0]<1e-4*lenX)[0],np.where((np.max(nodes[:,0])-nodes[:,0])<1e-4*lenX)[0],\n",
    "                  np.where(nodes[:,1]<1e-4*lenY)[0],np.where((np.max(nodes[:,1])-nodes[:,1])<1e-4*lenY)[0],\n",
    "                  np.where(nodes[:,2]<1e-4*lenZ)[0],np.where((np.max(nodes[:,2])-nodes[:,2])<1e-2*lenZ)[0],[]\n",
    "                 )\n",
    "timings['nodeBuilt'] = time()\n",
    "print(f\"Built nodes (n={nodes.shape[0]:.02f},zmax={max(nodes[:,2])}) in {timings['nodeBuilt']-timings['nodeStart']:.02f} seconds\")\n",
    "print('Determined boundary nodes with counts: ' + str(index))\n",
    "\n",
    "Bx0 = np.expand_dims(BxInterp((nodes[index.z0,0],nodes[index.z0,1])),1)\n",
    "By0 = np.expand_dims(ByInterp((nodes[index.z0,0],nodes[index.z0,1])),1)\n",
    "Bz0 = np.expand_dims(BzInterp((nodes[index.z0,0],nodes[index.z0,1])),1)\n",
    "\n",
    "# And now we can create the differentiation matrices for this domain\n",
    "stencil_n = 70\n",
    "order = 2\n",
    "Dx  = fd.weight_matrix(nodes,nodes,stencil_n,[1,0,0],phi='phs5',order=order).tocsr()\n",
    "timings['nodeDx'] = time()\n",
    "print(f\"Computed Dx in {timings['nodeDx']-timings['nodeBuilt']:.02f} seconds.\")\n",
    "Dy  = fd.weight_matrix(nodes,nodes,stencil_n,[0,1,0],phi='phs5',order=order).tocsr()\n",
    "timings['nodeDy'] = time()\n",
    "print(f\"Computed Dy in {timings['nodeDy']-timings['nodeDx']:.02f} seconds.\")\n",
    "Dz  = fd.weight_matrix(nodes,nodes,stencil_n,[0,0,1],phi='phs5',order=order).tocsr()\n",
    "timings['nodeDz'] = time()\n",
    "print(f\"Computed Dz in {timings['nodeDz']-timings['nodeDy']:.02f} seconds.\")\n",
    "Dxx = fd.weight_matrix(nodes,nodes,stencil_n,[2,0,0],phi='phs5',order=order).tocsr()\n",
    "timings['nodeDxx'] = time()\n",
    "print(f\"Computed Dxx in {timings['nodeDxx']-timings['nodeDz']:.02f} seconds.\")\n",
    "Dyy = fd.weight_matrix(nodes,nodes,stencil_n,[0,2,0],phi='phs5',order=order).tocsr()\n",
    "timings['nodeDyy'] = time()\n",
    "print(f\"Computed Dyy in {timings['nodeDyy']-timings['nodeDxx']:.02f} seconds.\")\n",
    "Dzz = fd.weight_matrix(nodes,nodes,stencil_n,[0,0,2],phi='phs5',order=order).tocsr()\n",
    "timings['nodeDzz'] = time()\n",
    "print(f\"Computed Dzz in {timings['nodeDzz']-timings['nodeDyy']:.02f} seconds.\")"
   ]
  },
  {
   "cell_type": "code",
   "execution_count": null,
   "id": "48e7ae37",
   "metadata": {},
   "outputs": [
    {
     "name": "stdout",
     "output_type": "stream",
     "text": [
      "Potential solution done: 1. Iteration 2087 returned residual 918.4352032264244\n",
      "Computed potential field in 148.50222373008728 seconds.\n",
      "Starting iterations -- initial residual 4.315096e+06\n",
      "building J\n"
     ]
    },
    {
     "name": "stderr",
     "output_type": "stream",
     "text": [
      "C:\\Users\\nhmathew\\AppData\\Local\\anaconda3\\envs\\solar\\Lib\\site-packages\\scipy\\sparse\\_index.py:134: SparseEfficiencyWarning: Changing the sparsity structure of a csr_matrix is expensive. lil_matrix is more efficient.\n",
      "  self._set_arrayXarray_sparse(i, j, x)\n"
     ]
    },
    {
     "name": "stdout",
     "output_type": "stream",
     "text": [
      "cuthill...\n",
      "J built. Starting lsqr\n"
     ]
    }
   ],
   "source": [
    "# Now we are ready to perform the MHS extrapolation\n",
    "importlib.reload(mhs)\n",
    "timings['mhsInit'] = time()\n",
    "config = {'lsqr_tol':1e-5,\n",
    "          'lsqr_iter':1e4,\n",
    "          'maxiters':2,\n",
    "          'gpu':False,\n",
    "          'verbose':True\n",
    "         }\n",
    "# First compute the potential field\n",
    "Bpot = mhs.potfield(nodes, Bz0, Dx, Dy, Dz, Dxx, Dyy, Dzz, index,\n",
    "                    config=config)\n",
    "timings['Bpot'] = time()\n",
    "print(f\"Computed potential field in {timings['Bpot']-timings['mhsInit']} seconds.\")\n",
    "B, r = mhs.num_mhs(np.zeros((n,1)),np.zeros((n,1)), Bx0,By0,Bz0, nodes, Dx, Dy, Dz, Dxx, Dyy, Dzz, index,\n",
    "                   config=config, Binit=Bpot)\n",
    "timings['Bmhs'] = time()\n",
    "print(f\"Computed mhs field in {timings['Bmhs']-timings['Bpot']} seconds.\")"
   ]
  },
  {
   "cell_type": "code",
   "execution_count": null,
   "id": "27659d2e",
   "metadata": {},
   "outputs": [],
   "source": [
    "fig = plt.figure()\n",
    "ax = plt.subplot(2,1,1)\n",
    "ax = ax.scatter(nodes[index.z0,0],nodes[index.z0,1],c=Bpot[index.z0,2],s=10)\n",
    "plt.colorbar(ax)\n",
    "ax = plt.subplot(2,1,2)\n",
    "ax = ax.scatter(nodes[index.z0,0],nodes[index.z0,1],c=Bz0,s=10)\n",
    "plt.colorbar(ax)\n",
    "plt.show()"
   ]
  },
  {
   "cell_type": "code",
   "execution_count": 5,
   "id": "de968d43",
   "metadata": {},
   "outputs": [
    {
     "data": {
      "text/plain": [
       "<module 'mhs' from 'C:\\\\Users\\\\nhmathew\\\\Documents\\\\code\\\\python\\\\mhs.py'>"
      ]
     },
     "execution_count": 5,
     "metadata": {},
     "output_type": "execute_result"
    }
   ],
   "source": [
    "import importlib\n",
    "importlib.reload(mhs)"
   ]
  },
  {
   "cell_type": "code",
   "execution_count": 136,
   "id": "761522b1",
   "metadata": {},
   "outputs": [
    {
     "data": {
      "application/vnd.jupyter.widget-view+json": {
       "model_id": "ca08e6d484314fb29b7142953466c1af",
       "version_major": 2,
       "version_minor": 0
      },
      "image/png": "[encoded data removed]",
      "text/html": [
       "\n",
       "            <div style=\"display: inline-block;\">\n",
       "                <div class=\"jupyter-widgets widget-label\" style=\"text-align: center;\">\n",
       "                    Figure\n",
       "                </div>\n",
       "                <img src='data:image/png;base64,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' width=640.0/>\n",
       "            </div>\n",
       "        "
      ],
      "text/plain": [
       "Canvas(toolbar=Toolbar(toolitems=[('Home', 'Reset original view', 'home', 'home'), ('Back', 'Back to previous …"
      ]
     },
     "metadata": {},
     "output_type": "display_data"
    }
   ],
   "source": [
    "fig = plt.figure()\n",
    "ax = plt.scatter(nodes[:,2],Dz.dot(nodes[:,2]**3)-3*nodes[:,2]**2)\n",
    "plt.show()"
   ]
  },
  {
   "cell_type": "code",
   "execution_count": 157,
   "id": "8dfcabcb",
   "metadata": {},
   "outputs": [
    {
     "ename": "TypeError",
     "evalue": "lsqr() missing 2 required positional arguments: 'A' and 'b'",
     "output_type": "error",
     "traceback": [
      "\u001b[1;31m---------------------------------------------------------------------------\u001b[0m",
      "\u001b[1;31mTypeError\u001b[0m                                 Traceback (most recent call last)",
      "Cell \u001b[1;32mIn[157], line 1\u001b[0m\n\u001b[1;32m----> 1\u001b[0m cupyx\u001b[38;5;241m.\u001b[39mscipy\u001b[38;5;241m.\u001b[39msparse\u001b[38;5;241m.\u001b[39mlinalg\u001b[38;5;241m.\u001b[39mlsqr()\n",
      "\u001b[1;31mTypeError\u001b[0m: lsqr() missing 2 required positional arguments: 'A' and 'b'"
     ]
    }
   ],
   "source": [
    "cupyx.scipy.sparse.linalg.lsqr()"
   ]
  },
  {
   "cell_type": "code",
   "execution_count": 165,
   "id": "3c2ede1f",
   "metadata": {},
   "outputs": [],
   "source": [
    "import inspect"
   ]
  },
  {
   "cell_type": "code",
   "execution_count": null,
   "id": "c0800311",
   "metadata": {},
   "outputs": [],
   "source": []
  }
 ],
 "metadata": {
  "kernelspec": {
   "display_name": "Python 3 (ipykernel)",
   "language": "python",
   "name": "python3"
  },
  "language_info": {
   "codemirror_mode": {
    "name": "ipython",
    "version": 3
   },
   "file_extension": ".py",
   "mimetype": "text/x-python",
   "name": "python",
   "nbconvert_exporter": "python",
   "pygments_lexer": "ipython3",
   "version": "3.11.4"
  }
 },
 "nbformat": 4,
 "nbformat_minor": 5
}
